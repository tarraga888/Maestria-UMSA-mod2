{
 "cells": [
  {
   "cell_type": "markdown",
   "id": "7a0c32d3",
   "metadata": {},
   "source": [
    "## Factorizacion Matrices QR Ejemplo 2\n",
    "### EDTT"
   ]
  },
  {
   "cell_type": "code",
   "execution_count": 120,
   "id": "38d4427f",
   "metadata": {},
   "outputs": [],
   "source": [
    "import numpy as np"
   ]
  },
  {
   "cell_type": "code",
   "execution_count": 121,
   "id": "65c9a537",
   "metadata": {},
   "outputs": [
    {
     "name": "stdout",
     "output_type": "stream",
     "text": [
      "A= [[1 1 1]\n",
      " [0 1 0]\n",
      " [0 0 1]\n",
      " [0 1 1]]\n",
      "filas: 4\n",
      "I:=  [[1. 0. 0. 0.]\n",
      " [0. 1. 0. 0.]\n",
      " [0. 0. 1. 0.]\n",
      " [0. 0. 0. 1.]]\n"
     ]
    }
   ],
   "source": [
    "M_A = np.array([[1, 1,1], \n",
    "              [0,1,0], \n",
    "              [0,0,1],\n",
    "              [0,1,1]])\n",
    "A=np.copy(M_A)\n",
    "print('A=',M_A)\n",
    "Fil = M_A.shape[0]\n",
    "print('filas:',Fil)\n",
    "Col = M_A.shape[1]\n",
    "##Crear. matriz identidad\n",
    "Iden=np.identity(Fil)\n",
    "print('I:= ',Iden)\n",
    "#Crear matrices vacias R,Q\n",
    "R=np.zeros((Fil,Col)) # Matriz vacia \n",
    "Q=np.zeros((Fil,Col)) # Matriz vacia \n",
    "Qt=np.zeros((Fil,Col)) # Matriz vacia Q transpuesta"
   ]
  },
  {
   "cell_type": "markdown",
   "id": "d8654231",
   "metadata": {},
   "source": [
    "## Las columnas son"
   ]
  },
  {
   "cell_type": "code",
   "execution_count": 122,
   "id": "5a931d9f",
   "metadata": {
    "scrolled": true
   },
   "outputs": [
    {
     "name": "stdout",
     "output_type": "stream",
     "text": [
      "[1 0 0 0] : [1 1 0 1] : [1 0 1 1]\n"
     ]
    }
   ],
   "source": [
    "Fil = M_A.shape[0]\n",
    "x1=A[:,0]\n",
    "x2=A[:,1]\n",
    "x3=A[:,2]\n",
    "print(x1,':',x2,':',x3)"
   ]
  },
  {
   "cell_type": "code",
   "execution_count": 123,
   "id": "ee279b7e",
   "metadata": {},
   "outputs": [
    {
     "name": "stdout",
     "output_type": "stream",
     "text": [
      "Norma x1:  1.0\n",
      "u1 :  [1. 0. 0. 0.]\n"
     ]
    }
   ],
   "source": [
    "#Calculando primera columna u1\n",
    "x11=np.zeros((Fil))\n",
    "N_x1 = np.linalg.norm(x1)\n",
    "print('Norma x1: ',N_x1)\n",
    "u1=x1/N_x1\n",
    "print('u1 : ',u1)"
   ]
  },
  {
   "cell_type": "code",
   "execution_count": 124,
   "id": "d1f5536e",
   "metadata": {},
   "outputs": [
    {
     "name": "stdout",
     "output_type": "stream",
     "text": [
      "Producto interno x2,u1:  1.0\n",
      "r2:  [0. 1. 0. 1.]\n",
      "u2:  [0.         0.70710678 0.         0.70710678]\n"
     ]
    }
   ],
   "source": [
    "#Calculando segunda columna u2\n",
    "pi_x2u1=np.inner(x2,u1) ##Producto interno u1,v1\n",
    "print('Producto interno x2,u1: ',pi_x2u1)\n",
    "r2=x2-pi_x2u1*u1\n",
    "N_r2 = np.linalg.norm(r2)\n",
    "u2=r2/N_r2\n",
    "print('r2: ',r2)\n",
    "print('u2: ',u2)"
   ]
  },
  {
   "cell_type": "code",
   "execution_count": 125,
   "id": "dc578f47",
   "metadata": {},
   "outputs": [
    {
     "name": "stdout",
     "output_type": "stream",
     "text": [
      "Producto interno x3,u1:  1.0\n",
      "Producto interno x3,u1:  0.7071067811865475\n",
      "r3:  [ 0.  -0.5  1.   0.5]\n",
      "u3:  [ 0.         -0.40824829  0.81649658  0.40824829]\n"
     ]
    }
   ],
   "source": [
    "#Calculando tercera columna u3\n",
    "pi_x3u1=np.inner(x3,u1) ##Producto interno x3,u1\n",
    "print('Producto interno x3,u1: ',pi_x3u1)\n",
    "pi_x3u2=np.inner(x3,u2) ##Producto interno x3,u2\n",
    "print('Producto interno x3,u1: ',pi_x3u2)\n",
    "r3=x3-pi_x3u1*u1-pi_x3u2*u2\n",
    "N_r3 = np.linalg.norm(r3)\n",
    "u3=r3/N_r3\n",
    "print('r3: ',r3)\n",
    "print('u3: ',u3)"
   ]
  },
  {
   "cell_type": "code",
   "execution_count": 126,
   "id": "6bfb2d88",
   "metadata": {},
   "outputs": [
    {
     "name": "stdout",
     "output_type": "stream",
     "text": [
      "Q:  [[ 1.          0.          0.        ]\n",
      " [ 0.          0.70710678 -0.40824829]\n",
      " [ 0.          0.          0.81649658]\n",
      " [ 0.          0.70710678  0.40824829]]\n",
      "--------\n",
      "Q*:  [[ 1.          0.          0.          0.        ]\n",
      " [ 0.          0.70710678  0.          0.70710678]\n",
      " [ 0.         -0.40824829  0.81649658  0.40824829]]\n",
      "--------\n",
      "R:  [[1.00000000e+00 1.00000000e+00 1.00000000e+00]\n",
      " [0.00000000e+00 1.41421356e+00 7.07106781e-01]\n",
      " [0.00000000e+00 1.66533454e-16 1.22474487e+00]]\n"
     ]
    }
   ],
   "source": [
    "Q[:,0]=u1\n",
    "Q[:,1]=u2\n",
    "Q[:,2]=u3\n",
    "print('Q: ',Q)\n",
    "print('--------')\n",
    "Qt=np.transpose(Q) ## Esto se aplica porque Q*=(Qconjujado)^T = Conjugado(Q^T)\n",
    "print('Q*: ',Qt)\n",
    "print('--------')\n",
    "R=np.matmul(Qt,M_A )\n",
    "print('R: ',R)"
   ]
  },
  {
   "cell_type": "code",
   "execution_count": 127,
   "id": "06e43302",
   "metadata": {},
   "outputs": [
    {
     "name": "stdout",
     "output_type": "stream",
     "text": [
      "[[ 1.  1.  1.]\n",
      " [ 0.  1. -0.]\n",
      " [ 0.  0.  1.]\n",
      " [ 0.  1.  1.]]\n"
     ]
    }
   ],
   "source": [
    "#Comprobacion de las matrices Q*R\n",
    "A=np.matmul(Q,R)\n",
    "print(np.round(A))"
   ]
  },
  {
   "cell_type": "code",
   "execution_count": null,
   "id": "9a2ad2e4",
   "metadata": {},
   "outputs": [],
   "source": []
  }
 ],
 "metadata": {
  "kernelspec": {
   "display_name": "Python 3 (ipykernel)",
   "language": "python",
   "name": "python3"
  },
  "language_info": {
   "codemirror_mode": {
    "name": "ipython",
    "version": 3
   },
   "file_extension": ".py",
   "mimetype": "text/x-python",
   "name": "python",
   "nbconvert_exporter": "python",
   "pygments_lexer": "ipython3",
   "version": "3.9.7"
  }
 },
 "nbformat": 4,
 "nbformat_minor": 5
}
