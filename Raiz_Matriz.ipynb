{
 "cells": [
  {
   "cell_type": "code",
   "execution_count": 183,
   "id": "e748f821",
   "metadata": {},
   "outputs": [],
   "source": [
    "import numpy as np"
   ]
  },
  {
   "cell_type": "code",
   "execution_count": 216,
   "id": "c6f87843",
   "metadata": {},
   "outputs": [
    {
     "name": "stdout",
     "output_type": "stream",
     "text": [
      "A= [[2 1]\n",
      " [1 1]]\n",
      "filas: 2\n",
      "I:=  [[1. 0.]\n",
      " [0. 1.]]\n"
     ]
    }
   ],
   "source": [
    "M_A = np.array([[2,1], \n",
    "              [1,1]])\n",
    "A=np.copy(M_A)\n",
    "print('A=',M_A)\n",
    "Fil = M_A.shape[0]\n",
    "print('filas:',Fil)\n",
    "Col = M_A.shape[1]\n",
    "##Crear. matriz identidad\n",
    "Iden=np.identity(Fil)\n",
    "print('I:= ',Iden)\n",
    "#Crear matrices vacias R,Q\n",
    "M_A_T=np.zeros((Fil,Col)) # Matriz vacia \n",
    "Ix=np.zeros((Fil,Col)) # Matriz vacia \n",
    "U=np.zeros((Fil,Col)) # Matriz vacia \n",
    "Ut=np.zeros((Fil,Col)) # Matriz vacia \n",
    "Q=np.zeros((Fil,Col)) # Matriz vacia Q transpuesta\n",
    "Raiz_A=np.zeros((Fil,Col)) # Matriz vacia Q transpuesta\n",
    "T_e1=np.zeros((Fil,Col)) # Matriz vacia Q transpuesta"
   ]
  },
  {
   "cell_type": "code",
   "execution_count": 217,
   "id": "3f8c8f49",
   "metadata": {},
   "outputs": [],
   "source": [
    "A11=M_A[0,0]\n",
    "A12=M_A[0,1]\n",
    "A21=M_A[1,0]\n",
    "A22=M_A[1,1]"
   ]
  },
  {
   "cell_type": "code",
   "execution_count": 218,
   "id": "f2465b60",
   "metadata": {},
   "outputs": [
    {
     "name": "stdout",
     "output_type": "stream",
     "text": [
      "A transpuesta= [[2 1]\n",
      " [1 1]]\n",
      "True\n",
      "Matriz simetrica\n"
     ]
    }
   ],
   "source": [
    "M_A_T=np.transpose(M_A)\n",
    "print('A transpuesta=',M_A_T)\n",
    "Igual=np.array_equal(M_A,M_A_T)\n",
    "print(Igual)\n",
    "if Igual==True:\n",
    "       print('Matriz simetrica')\n",
    "else:\n",
    "       print('Matriz no simetrica')\n"
   ]
  },
  {
   "cell_type": "code",
   "execution_count": 219,
   "id": "abafe38e",
   "metadata": {},
   "outputs": [
    {
     "name": "stdout",
     "output_type": "stream",
     "text": [
      "delta1 2\n",
      "delta2 1\n",
      "Matriz semidedifinida positiva\n"
     ]
    }
   ],
   "source": [
    "#Verificacion Determinates\n",
    "delta1=A11\n",
    "delta2=A11*A22-A12*A21\n",
    "print('delta1',delta1)\n",
    "print('delta2',delta2)\n",
    "if delta1 >=0 and delta2 >=0:\n",
    "       print('Matriz semidedifinida positiva')\n",
    "else:\n",
    "       print('No cumple Matriz semidedifinida positiva')"
   ]
  },
  {
   "cell_type": "code",
   "execution_count": 220,
   "id": "5534855d",
   "metadata": {},
   "outputs": [
    {
     "name": "stdout",
     "output_type": "stream",
     "text": [
      "lambda1= 1/2 3 +raiz( 5\n",
      "lambda1= 2.618033988749895\n",
      "lambda1= 1/2 3 -raiz( 5\n",
      "lambda2= 0.3819660112501051\n"
     ]
    }
   ],
   "source": [
    "b=-A11-A22\n",
    "c=A11*A22-A12*A21\n",
    "disc=b*b-4*c\n",
    "lambda1=0.5*(-b+pow(disc,1/2))\n",
    "lambda2=0.5*(-b-pow(disc,1/2))\n",
    "print('lambda1=','1/2',-b,'+raiz(',disc)\n",
    "print('lambda1=',lambda1)\n",
    "print('lambda1=','1/2',-b,'-raiz(',disc)\n",
    "print('lambda2=',lambda2)"
   ]
  },
  {
   "cell_type": "code",
   "execution_count": 221,
   "id": "c0cd801d",
   "metadata": {},
   "outputs": [
    {
     "name": "stdout",
     "output_type": "stream",
     "text": [
      "x1 [1.6180339887498947, 1]\n",
      "x2 [-0.6180339887498948, 1]\n",
      "Eigenvalue:  [2.61803399 0.38196601]\n",
      "Eigenvectors:  [[ 0.85065081 -0.52573111]\n",
      " [ 0.52573111  0.85065081]]\n"
     ]
    }
   ],
   "source": [
    "x1=[-A12/(A11-lambda1),1]\n",
    "x2=[-A12/(A11-lambda2),1]\n",
    "print('x1',x1)\n",
    "print('x2',x2)\n",
    "# verificacion\n",
    "x, v = np.linalg.eig (M_A)\n",
    "print (\"Eigenvalue: \", x)\n",
    "print (\"Eigenvectors: \", v)"
   ]
  },
  {
   "cell_type": "code",
   "execution_count": 222,
   "id": "13abb101",
   "metadata": {},
   "outputs": [
    {
     "name": "stdout",
     "output_type": "stream",
     "text": [
      "Norma x1:  1.902113032590307\n",
      "u1 :  [0.85065081 0.52573111]\n"
     ]
    }
   ],
   "source": [
    "#Calculando primera columna u1\n",
    "N_x1 = np.linalg.norm(x1)\n",
    "print('Norma x1: ',N_x1)\n",
    "u1=x1/N_x1\n",
    "print('u1 : ',u1)"
   ]
  },
  {
   "cell_type": "code",
   "execution_count": 223,
   "id": "028d4f68",
   "metadata": {},
   "outputs": [
    {
     "name": "stdout",
     "output_type": "stream",
     "text": [
      "Producto interno x2,u1:  1.1102230246251565e-16\n",
      "r2:  [-0.61803399  1.        ]\n",
      "u2:  [-0.52573111  0.85065081]\n"
     ]
    }
   ],
   "source": [
    "#Calculando segunda columna u2\n",
    "pi_x2u1=np.inner(x2,u1) ##Producto interno u1,v1\n",
    "print('Producto interno x2,u1: ',pi_x2u1)\n",
    "r2=x2-pi_x2u1*u1\n",
    "N_r2 = np.linalg.norm(r2)\n",
    "u2=r2/N_r2\n",
    "print('r2: ',r2)\n",
    "print('u2: ',u2)"
   ]
  },
  {
   "cell_type": "code",
   "execution_count": 224,
   "id": "8a229ea0",
   "metadata": {},
   "outputs": [
    {
     "name": "stdout",
     "output_type": "stream",
     "text": [
      "U:  [[ 0.85065081 -0.52573111]\n",
      " [ 0.52573111  0.85065081]]\n",
      "--------\n"
     ]
    }
   ],
   "source": [
    "U[:,0]=u1\n",
    "U[:,1]=u2\n",
    "print('U: ',U)\n",
    "print('--------')"
   ]
  },
  {
   "cell_type": "code",
   "execution_count": 225,
   "id": "793a6351",
   "metadata": {},
   "outputs": [
    {
     "name": "stdout",
     "output_type": "stream",
     "text": [
      "U*:  [[ 0.85065081  0.52573111]\n",
      " [-0.52573111  0.85065081]]\n",
      "--------\n",
      "T:  [[ 2.61803399e+00 -2.77555756e-17]\n",
      " [-2.22044605e-16  3.81966011e-01]]\n"
     ]
    }
   ],
   "source": [
    "Ut=np.transpose(U) ## Esto se aplica porque U*=(Qconjujado)^T = Conjugado(U^T)\n",
    "print('U*: ',Ut)\n",
    "print('--------')\n",
    "M_AU=np.matmul(M_A,U)\n",
    "T=np.matmul(Ut,M_AU )\n",
    "##T=np.round(T,9)\n",
    "print('T: ',T)"
   ]
  },
  {
   "cell_type": "code",
   "execution_count": 226,
   "id": "531f0a70",
   "metadata": {},
   "outputs": [
    {
     "name": "stdout",
     "output_type": "stream",
     "text": [
      "Raiz_A:  [[1.34164079 0.4472136 ]\n",
      " [0.4472136  0.89442719]]\n"
     ]
    }
   ],
   "source": [
    "T_e2=np.copy(T)\n",
    "T_e1[0,0]=pow(T_e2[0,0],1/2)\n",
    "T_e1[1,1]=pow(T_e2[1,1],1/2)\n",
    "Raiz_A=np.matmul(U,T_e1)\n",
    "Raiz_A=np.matmul(Raiz_A,Ut)\n",
    "print('Raiz_A: ',Raiz_A)"
   ]
  },
  {
   "cell_type": "code",
   "execution_count": 227,
   "id": "a95aaae6",
   "metadata": {},
   "outputs": [
    {
     "data": {
      "text/plain": [
       "array([[2., 1.],\n",
       "       [1., 1.]])"
      ]
     },
     "execution_count": 227,
     "metadata": {},
     "output_type": "execute_result"
    }
   ],
   "source": [
    "#Comprobacion\n",
    "np.matmul(Raiz_A,Raiz_A)"
   ]
  },
  {
   "cell_type": "code",
   "execution_count": null,
   "id": "14a072b5",
   "metadata": {},
   "outputs": [],
   "source": []
  }
 ],
 "metadata": {
  "kernelspec": {
   "display_name": "Python 3 (ipykernel)",
   "language": "python",
   "name": "python3"
  },
  "language_info": {
   "codemirror_mode": {
    "name": "ipython",
    "version": 3
   },
   "file_extension": ".py",
   "mimetype": "text/x-python",
   "name": "python",
   "nbconvert_exporter": "python",
   "pygments_lexer": "ipython3",
   "version": "3.9.7"
  }
 },
 "nbformat": 4,
 "nbformat_minor": 5
}
