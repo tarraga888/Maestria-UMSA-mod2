{
 "cells": [
  {
   "cell_type": "markdown",
   "id": "7a0c32d3",
   "metadata": {},
   "source": [
    "## Matrices\n"
   ]
  },
  {
   "cell_type": "code",
   "execution_count": 20,
   "id": "38d4427f",
   "metadata": {},
   "outputs": [],
   "source": [
    "import numpy as np"
   ]
  },
  {
   "cell_type": "code",
   "execution_count": 21,
   "id": "dd4b15be",
   "metadata": {},
   "outputs": [],
   "source": [
    "def multiply_matrix(A,B):\n",
    "  global C\n",
    "  if  A.shape[1] == B.shape[0]:\n",
    "    C = np.zeros((A.shape[0],B.shape[1]),dtype = int)\n",
    "    for row in range(rows): \n",
    "        for col in range(cols):\n",
    "            for elt in range(len(B)):\n",
    "              C[row, col] += A[row, elt] * B[elt, col]\n",
    "    return C\n",
    "  else:\n",
    "    return \"Sorry, cannot multiply A and B.\"\n"
   ]
  },
  {
   "cell_type": "code",
   "execution_count": 38,
   "id": "65c9a537",
   "metadata": {},
   "outputs": [
    {
     "name": "stdout",
     "output_type": "stream",
     "text": [
      "A= [[-1  3  1  0]\n",
      " [ 1 -3  2  1]\n",
      " [ 3  1  0  1]\n",
      " [ 2  1  0  0]]\n"
     ]
    }
   ],
   "source": [
    "M_A = np.array([[-1, 3,1,0], \n",
    "              [1,-3,2,1], \n",
    "              [3,1,0,1],\n",
    "             [2,1,0,0]])\n",
    "print('A=',M_A)"
   ]
  },
  {
   "cell_type": "code",
   "execution_count": 39,
   "id": "393762cd",
   "metadata": {},
   "outputs": [
    {
     "name": "stdout",
     "output_type": "stream",
     "text": [
      "cf1; -1\n",
      "cf2; 1\n",
      "cf3; 3\n",
      "cf4; 2\n",
      "A*Fila2= [[-1  3  1  0]\n",
      " [ 0  0  3  1]\n",
      " [ 3  1  0  1]\n",
      " [ 2  1  0  0]]\n",
      "A*Fila3= [[-1  3  1  0]\n",
      " [ 0  0  3  1]\n",
      " [ 0 10  3  1]\n",
      " [ 2  1  0  0]]\n",
      "A*Fila4= [[-1  3  1  0]\n",
      " [ 0  0  3  1]\n",
      " [ 0 10  3  1]\n",
      " [ 0  7  2  0]]\n"
     ]
    }
   ],
   "source": [
    "cf11=M_A[0,0]\n",
    "print('cf1;',cf11)\n",
    "cf21=M_A[1,0]\n",
    "print('cf2;',cf21)\n",
    "cf31=M_A[2,0]\n",
    "print('cf3;',cf31)\n",
    "cf41=M_A[3,0]\n",
    "print('cf4;',cf41)\n",
    "M_A[1,:]=M_A[0,:]+M_A[1,:] #Fila2 =cofactor-fila1\n",
    "print('A*Fila2=',M_A)\n",
    "M_A[2,:]=3*M_A[0,:]+M_A[2,:] #Fila3 =cofactor-fila1\n",
    "print('A*Fila3=',M_A)\n",
    "M_A[3,:]=2*M_A[0,:]+M_A[3,:] #Fila4 =cofactor-fila1\n",
    "print('A*Fila4=',M_A)"
   ]
  },
  {
   "cell_type": "code",
   "execution_count": 45,
   "id": "f33fb2fa",
   "metadata": {},
   "outputs": [
    {
     "name": "stdout",
     "output_type": "stream",
     "text": [
      "B= [[-1  3  1  0]\n",
      " [ 0 10  3  1]\n",
      " [ 0  0  3  1]\n",
      " [ 0  7  2  0]]\n"
     ]
    }
   ],
   "source": [
    "M_B = np.array([[-1, 3,1,0], \n",
    "              [0,10,3,1], \n",
    "              [0,0,3,1],\n",
    "             [0,7,2,0]])\n",
    "print('B=',M_B)"
   ]
  },
  {
   "cell_type": "code",
   "execution_count": 46,
   "id": "3753922b",
   "metadata": {},
   "outputs": [
    {
     "name": "stdout",
     "output_type": "stream",
     "text": [
      "A*Fila44= [[-1  3  1  0]\n",
      " [ 0 10  3  1]\n",
      " [ 0  0  3  1]\n",
      " [ 0  0 -1 -7]]\n",
      "A*Fila44= [[ -1   3   1   0]\n",
      " [  0  10   3   1]\n",
      " [  0   0   3   1]\n",
      " [  0   0   0 -20]]\n"
     ]
    }
   ],
   "source": [
    "M_B[3,:]=10*M_B[3,:]-7*M_B[1,:] #Fila4 =cofactor-fila1\n",
    "print('A*Fila44=',M_B)\n",
    "M_B[3,:]=3*M_B[3,:]+M_B[2,:] #Fila4 =cofactor-fila1\n",
    "print('A*Fila44=',M_B)"
   ]
  },
  {
   "cell_type": "code",
   "execution_count": 61,
   "id": "7e1a1a65",
   "metadata": {},
   "outputs": [
    {
     "name": "stdout",
     "output_type": "stream",
     "text": [
      "I= [[1 0 0 0]\n",
      " [0 1 0 0]\n",
      " [0 0 1 0]\n",
      " [0 0 0 1]]\n",
      "A*Fila2= [[1 0 0 0]\n",
      " [1 1 0 0]\n",
      " [0 0 1 0]\n",
      " [0 0 0 1]]\n",
      "ej inv= [[ 1.  0.  0.  0.]\n",
      " [-1.  1.  0.  0.]\n",
      " [ 0.  0.  1.  0.]\n",
      " [ 0.  0.  0.  1.]]\n"
     ]
    }
   ],
   "source": [
    "Id=np.array([[1, 0,0,0], \n",
    "              [0,1,0,0], \n",
    "              [0,0,1,0],\n",
    "             [0,0,0,1]])\n",
    "print('I=',Id)\n",
    "Id[1,:]=Id[0,:]+Id[1,:] #Fila2 =cofactor-fila1\n",
    "print('A*Fila2=',Id)\n",
    "Idinv1=np.linalg.inv(Id)\n",
    "print('ej inv=',Idinv1)"
   ]
  },
  {
   "cell_type": "code",
   "execution_count": 62,
   "id": "10df552e",
   "metadata": {},
   "outputs": [
    {
     "name": "stdout",
     "output_type": "stream",
     "text": [
      "A*Fila3= [[1 0 0 0]\n",
      " [0 1 0 0]\n",
      " [3 0 1 0]\n",
      " [0 0 0 1]]\n",
      "ej inv2= [[ 1.  0.  0.  0.]\n",
      " [ 0.  1.  0.  0.]\n",
      " [-3. -0.  1. -0.]\n",
      " [ 0.  0.  0.  1.]]\n",
      "A*Fila4= [[1 0 0 0]\n",
      " [0 1 0 0]\n",
      " [0 0 1 0]\n",
      " [2 0 0 1]]\n",
      "ej inv3= [[ 1.  0.  0.  0.]\n",
      " [ 0.  1.  0.  0.]\n",
      " [ 0.  0.  1.  0.]\n",
      " [-2. -0. -0.  1.]]\n"
     ]
    }
   ],
   "source": [
    "Id=np.array([[1, 0,0,0], \n",
    "              [0,1,0,0], \n",
    "              [0,0,1,0],\n",
    "             [0,0,0,1]])\n",
    "\n",
    "Id[2,:]=3*Id[0,:]+Id[2,:] #Fila3 =cofactor-fila1\n",
    "print('A*Fila3=',Id)\n",
    "Idinv2=np.linalg.inv(Id)\n",
    "print('ej inv2=',Idinv2)\n",
    "Id=np.array([[1, 0,0,0], \n",
    "              [0,1,0,0], \n",
    "              [0,0,1,0],\n",
    "             [0,0,0,1]])\n",
    "Id[3,:]=2*Id[0,:]+Id[3,:] #Fila4 =cofactor-fila1\n",
    "print('A*Fila4=',Id)\n",
    "Idinv3=np.linalg.inv(Id)\n",
    "print('ej inv3=',Idinv3)"
   ]
  },
  {
   "cell_type": "code",
   "execution_count": 66,
   "id": "57ce9e4b",
   "metadata": {},
   "outputs": [
    {
     "name": "stdout",
     "output_type": "stream",
     "text": [
      "I= [[1 0 0 0]\n",
      " [0 0 1 0]\n",
      " [0 1 0 0]\n",
      " [0 0 0 1]]\n",
      "ej inv4= [[1. 0. 0. 0.]\n",
      " [0. 0. 1. 0.]\n",
      " [0. 1. 0. 0.]\n",
      " [0. 0. 0. 1.]]\n"
     ]
    }
   ],
   "source": [
    "Id2=np.array([[1, 0,0,0], \n",
    "              [0,0,1,0], \n",
    "              [0,1,0,0],\n",
    "             [0,0,0,1]])\n",
    "print('I=',Id2)\n",
    "Idinv4=np.linalg.inv(Id2)\n",
    "print('ej inv4=',Idinv4)"
   ]
  },
  {
   "cell_type": "code",
   "execution_count": 67,
   "id": "d4e654f7",
   "metadata": {},
   "outputs": [
    {
     "name": "stdout",
     "output_type": "stream",
     "text": [
      "A*Fila44= [[ 1  0  0  0]\n",
      " [ 0  1  0  0]\n",
      " [ 0  0  1  0]\n",
      " [ 0 -7  0 10]]\n",
      "ej inv5= [[ 1.00000000e+00  0.00000000e+00  0.00000000e+00  0.00000000e+00]\n",
      " [-0.00000000e+00  1.00000000e+00 -0.00000000e+00  7.93016446e-18]\n",
      " [ 0.00000000e+00  0.00000000e+00  1.00000000e+00  0.00000000e+00]\n",
      " [ 0.00000000e+00  7.00000000e-01  0.00000000e+00  1.00000000e-01]]\n",
      "A*Fila44= [[1 0 0 0]\n",
      " [0 1 0 0]\n",
      " [0 0 1 0]\n",
      " [0 0 1 3]]\n",
      "ej inv6= [[ 1.          0.          0.          0.        ]\n",
      " [ 0.          1.          0.          0.        ]\n",
      " [ 0.          0.          1.          0.        ]\n",
      " [ 0.          0.         -0.33333333  0.33333333]]\n"
     ]
    }
   ],
   "source": [
    "Id=np.array([[1, 0,0,0], \n",
    "              [0,1,0,0], \n",
    "              [0,0,1,0],\n",
    "             [0,0,0,1]])\n",
    "Id[3,:]=10*Id[3,:]-7*Id[1,:] #Fila4 =cofactor-fila1\n",
    "print('A*Fila44=',Id)\n",
    "Idinv5=np.linalg.inv(Id)\n",
    "print('ej inv5=',Idinv5)\n",
    "\n",
    "Id=np.array([[1, 0,0,0], \n",
    "              [0,1,0,0], \n",
    "              [0,0,1,0],\n",
    "             [0,0,0,1]])\n",
    "Id[3,:]=3*Id[3,:]+Id[2,:] #Fila4 =cofactor-fila1\n",
    "print('A*Fila44=',Id)\n",
    "Idinv6=np.linalg.inv(Id)\n",
    "print('ej inv6=',Idinv6)"
   ]
  },
  {
   "cell_type": "code",
   "execution_count": null,
   "id": "9136909d",
   "metadata": {},
   "outputs": [],
   "source": []
  },
  {
   "cell_type": "code",
   "execution_count": null,
   "id": "96e1c772",
   "metadata": {},
   "outputs": [],
   "source": []
  }
 ],
 "metadata": {
  "kernelspec": {
   "display_name": "Python 3 (ipykernel)",
   "language": "python",
   "name": "python3"
  },
  "language_info": {
   "codemirror_mode": {
    "name": "ipython",
    "version": 3
   },
   "file_extension": ".py",
   "mimetype": "text/x-python",
   "name": "python",
   "nbconvert_exporter": "python",
   "pygments_lexer": "ipython3",
   "version": "3.9.7"
  }
 },
 "nbformat": 4,
 "nbformat_minor": 5
}
