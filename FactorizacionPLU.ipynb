{
 "cells": [
  {
   "cell_type": "markdown",
   "id": "7a0c32d3",
   "metadata": {},
   "source": [
    "## Matrices\n"
   ]
  },
  {
   "cell_type": "code",
   "execution_count": 1,
   "id": "38d4427f",
   "metadata": {},
   "outputs": [],
   "source": [
    "import numpy as np"
   ]
  },
  {
   "cell_type": "code",
   "execution_count": 2,
   "id": "65c9a537",
   "metadata": {},
   "outputs": [
    {
     "name": "stdout",
     "output_type": "stream",
     "text": [
      "A= [[-1  3  1  0]\n",
      " [ 1 -3  2  1]\n",
      " [ 3  1  0  1]\n",
      " [ 2  1  0  0]]\n",
      "filas: 4\n",
      "I:=  [[1. 0. 0. 0.]\n",
      " [0. 1. 0. 0.]\n",
      " [0. 0. 1. 0.]\n",
      " [0. 0. 0. 1.]]\n"
     ]
    }
   ],
   "source": [
    "M_A = np.array([[-1, 3,1,0], \n",
    "              [1,-3,2,1], \n",
    "              [3,1,0,1],\n",
    "             [2,1,0,0]])\n",
    "A=np.copy(M_A)\n",
    "print('A=',M_A)\n",
    "Fil = M_A.shape[0]\n",
    "print('filas:',Fil)\n",
    "Col = M_A.shape[1]\n",
    "##Crear. matriz identidad\n",
    "Iden=np.identity(Fil)\n",
    "print('I:= ',Iden)"
   ]
  },
  {
   "cell_type": "code",
   "execution_count": 3,
   "id": "393762cd",
   "metadata": {},
   "outputs": [
    {
     "name": "stdout",
     "output_type": "stream",
     "text": [
      "cofactores= [-1  1  3  2]\n",
      "------------------\n",
      "Fila 2 : 1 *Fila 1- -1 *Fila 2\n",
      "Pivoteo- A: = [[-1  3  1  0]\n",
      " [ 0  0  3  1]\n",
      " [ 3  1  0  1]\n",
      " [ 2  1  0  0]]\n",
      "Matriz elemental 1 := [[1. 0. 0. 0.]\n",
      " [1. 1. 0. 0.]\n",
      " [0. 0. 1. 0.]\n",
      " [0. 0. 0. 1.]]\n",
      "Matriz inversa elemental 2 := [[ 1.  0.  0.  0.]\n",
      " [-1.  1.  0.  0.]\n",
      " [ 0.  0.  1.  0.]\n",
      " [ 0.  0.  0.  1.]]\n",
      "Producto Matrices inversa elemental: = [[ 1.  0.  0.  0.]\n",
      " [-1.  1.  0.  0.]\n",
      " [ 0.  0.  1.  0.]\n",
      " [ 0.  0.  0.  1.]]\n",
      "------------------------\n",
      "Fila 3 : 3 *Fila 1- -1 *Fila 3\n",
      "Pivoteo- A: = [[-1  3  1  0]\n",
      " [ 0  0  3  1]\n",
      " [ 0 10  3  1]\n",
      " [ 2  1  0  0]]\n",
      "Matriz elemental 2 := [[1. 0. 0. 0.]\n",
      " [0. 1. 0. 0.]\n",
      " [3. 0. 1. 0.]\n",
      " [0. 0. 0. 1.]]\n",
      "Matriz inversa elemental 3 := [[ 1.  0.  0.  0.]\n",
      " [ 0.  1.  0.  0.]\n",
      " [-3. -0.  1. -0.]\n",
      " [ 0.  0.  0.  1.]]\n",
      "Producto Matrices inversa elemental: = [[ 1.  0.  0.  0.]\n",
      " [-1.  1.  0.  0.]\n",
      " [-3.  0.  1.  0.]\n",
      " [ 0.  0.  0.  1.]]\n",
      "------------------------\n",
      "Fila 4 : 2 *Fila 1- -1 *Fila 4\n",
      "Pivoteo- A: = [[-1  3  1  0]\n",
      " [ 0  0  3  1]\n",
      " [ 0 10  3  1]\n",
      " [ 0  7  2  0]]\n",
      "Matriz elemental 3 := [[1. 0. 0. 0.]\n",
      " [0. 1. 0. 0.]\n",
      " [0. 0. 1. 0.]\n",
      " [2. 0. 0. 1.]]\n",
      "Matriz inversa elemental 4 := [[ 1.  0.  0.  0.]\n",
      " [ 0.  1.  0.  0.]\n",
      " [ 0.  0.  1.  0.]\n",
      " [-2. -0. -0.  1.]]\n",
      "Producto Matrices inversa elemental: = [[ 1.  0.  0.  0.]\n",
      " [-1.  1.  0.  0.]\n",
      " [-3.  0.  1.  0.]\n",
      " [-2.  0.  0.  1.]]\n",
      "------------------------\n"
     ]
    }
   ],
   "source": [
    "C_fact=np.copy(M_A[:,0]) #Extrae los cofactores de  primer columna\n",
    "print('cofactores=',C_fact)\n",
    "matriz = [range(Col) for i in range(Fil)]\n",
    "Aux_1=np.identity(Fil)\n",
    "Aux_2=np.zeros((Fil,Col)) # Matriz vacia de 10 pasos\n",
    "indice=1\n",
    "print('------------------')\n",
    "for i in range(1,Fil): #Comienza desde fila 2 : [1,:]\n",
    "    Id1=np.copy(Iden)\n",
    "    M_A[i,:]=C_fact[i]*M_A[0,:]-C_fact[0]*M_A[i,:] #Fila2 =cofactor-fila1\n",
    "    Id1[i,:]=C_fact[i]*Id1[0,:]-C_fact[0]*Id1[i,:] #Fila2 =cofactor-fila1\n",
    "    Idinv1=np.linalg.inv(Id1)\n",
    "    Aux_2=np.matmul(Aux_1,Idinv1)\n",
    "    Aux_1=Aux_2\n",
    "    print('Fila',i+1,':',C_fact[i],'*Fila 1-',C_fact[0],'*Fila',i+1)\n",
    "    print('Pivoteo- A: =',M_A)\n",
    "    print('Matriz elemental',indice,':=',Id1)\n",
    "    indice=indice +1\n",
    "    print('Matriz inversa elemental',indice,':=',Idinv1)\n",
    "    print('Producto Matrices inversa elemental: =',Aux_1)\n",
    "    print('------------------------')"
   ]
  },
  {
   "cell_type": "code",
   "execution_count": 4,
   "id": "f33fb2fa",
   "metadata": {},
   "outputs": [
    {
     "name": "stdout",
     "output_type": "stream",
     "text": [
      "cofactores 2da col= [ 3  0 10  7]\n",
      "------------------\n",
      "Matriz. permutada filas  [[-1  3  1  0]\n",
      " [ 0 10  3  1]\n",
      " [ 0  0  3  1]\n",
      " [ 0  7  2  0]]\n",
      "Fila 4 : 10 *Fila 4- 7 *Fila 2\n",
      "Pivoteo- A: = [[-1  3  1  0]\n",
      " [ 0 10  3  1]\n",
      " [ 0  0  3  1]\n",
      " [ 0  0 -1 -7]]\n",
      "Matriz elemental:= [[ 1.  0.  0.  0.]\n",
      " [ 0.  1.  0.  0.]\n",
      " [ 0.  0.  1.  0.]\n",
      " [ 0. -7.  0. 10.]]\n",
      "Matriz inversa elemental 4 := [[ 1.   0.   0.   0. ]\n",
      " [-0.   1.  -0.  -0. ]\n",
      " [ 0.   0.   1.   0. ]\n",
      " [ 0.   0.7  0.   0.1]]\n",
      "Producto Matrices inversa elemental: = [[ 1.   0.   0.   0. ]\n",
      " [-1.   1.   0.   0. ]\n",
      " [-3.   0.   1.   0. ]\n",
      " [-2.   0.7  0.   0.1]]\n",
      "------------------------\n"
     ]
    }
   ],
   "source": [
    "##Crear. matriz identidad\n",
    "Iden=np.identity(Fil)\n",
    "C_fact=np.copy(M_A[:,1]) #Extrae los cofactores de  segunda columna\n",
    "print('cofactores 2da col=',C_fact)\n",
    "matriz = [range(Col) for i in range(Fil)]\n",
    "print('------------------')\n",
    "Permuta=np.copy(Iden) ## Crea matriz de permutacion\n",
    "Id1=np.copy(Iden)  ## Crea matriz idenitidad auxiliar\n",
    "if C_fact[1]==0:  # Si el cofactor de la fila 2 es cero se permuta con la F3\n",
    "        M_A[:,:]=M_A[[0,2,1,3],:]\n",
    "        Permuta[:,:]=Permuta[[0,2,1,3],:] #Aplica matriz de permutaciones\n",
    "        print('Matriz. permutada filas ',M_A)\n",
    "        C_fact=np.copy(M_A[:,1]) #Extrae los cofactores de  segunda columna\n",
    "        M_A[3,:]=C_fact[1]*M_A[3,:]-C_fact[3]*M_A[1,:] #Fila4 =CF*F4-CF*F2\n",
    "        Id1[3,:]=C_fact[1]*Id1[3,:]-C_fact[3]*Id1[1,:] #Fila4 =CF*F4-CF*F2\n",
    "        Idinv1=np.linalg.inv(Id1)\n",
    "        Aux_2=np.matmul(Aux_1,Idinv1)\n",
    "        Aux_1=Aux_2\n",
    "        print('Fila',4,':',C_fact[1],'*Fila 4-',C_fact[3],'*Fila',2)\n",
    "        print('Pivoteo- A: =',M_A)\n",
    "        print('Matriz elemental:=',Id1)\n",
    "        print('Matriz inversa elemental',indice,':=',Idinv1)\n",
    "        print('Producto Matrices inversa elemental: =',Aux_1)\n",
    "        print('------------------------')\n",
    "else: #Caso contrari se procede a pibotar\n",
    "    for i in range(2,Fil): #Comienza desde fila 2 : [1,:]\n",
    "        Id1=np.copy(Iden)\n",
    "        M_A[i,:]=C_fact[i]*M_A[1,:]-C_fact[1]*M_A[i,:] #Fila2 =cofactor-fila1\n",
    "        Id1[i,:]=C_fact[i]*Id1[1,:]-C_fact[1]*Id1[i,:] #Fila2 =cofactor-fila1\n",
    "        #Idinv1=np.linalg.inv(Id1)\n",
    "        print('Fila',i+1,':',C_fact[i],'*Fila 1-',C_fact[1],'*Fila',i+1)\n",
    "        print('Pivoteo- A: =',M_A)\n",
    "        print('Pivoteo- Identidad: =',Id1)\n",
    "        print('------------------------')"
   ]
  },
  {
   "cell_type": "code",
   "execution_count": 5,
   "id": "3753922b",
   "metadata": {},
   "outputs": [
    {
     "name": "stdout",
     "output_type": "stream",
     "text": [
      "Fila 4 : 3 *Fila 4- -1 *Fila 2\n",
      "Pivoteo- A: = [[ -1   3   1   0]\n",
      " [  0  10   3   1]\n",
      " [  0   0   3   1]\n",
      " [  0   0   0 -20]]\n",
      "Matriz elemental:= [[1. 0. 0. 0.]\n",
      " [0. 1. 0. 0.]\n",
      " [0. 0. 1. 0.]\n",
      " [0. 0. 1. 3.]]\n",
      "Matriz inversa elemental 4 := [[ 1.          0.          0.          0.        ]\n",
      " [ 0.          1.          0.          0.        ]\n",
      " [ 0.          0.          1.          0.        ]\n",
      " [ 0.          0.         -0.33333333  0.33333333]]\n",
      "L: = [[ 1.  0.  0.  0.]\n",
      " [-1.  1.  0.  0.]\n",
      " [-3.  0.  1.  0.]\n",
      " [-2.  1. -0.  0.]]\n",
      "U: = [[ -1   3   1   0]\n",
      " [  0  10   3   1]\n",
      " [  0   0   3   1]\n",
      " [  0   0   0 -20]]\n"
     ]
    }
   ],
   "source": [
    "C_fact=np.copy(M_A[:,2]) #Extrae los cofactores de  tercera columna\n",
    "Id1=np.copy(Iden)  ## Crea matriz idenitidad auxiliar\n",
    "M_A[3,:]=C_fact[2]*M_A[3,:]-C_fact[3]*M_A[2,:] #Fila4 =CF*F4-CF*F2\n",
    "Id1[3,:]=C_fact[2]*Id1[3,:]-C_fact[3]*Id1[2,:] #Fila4 =CF*F4-CF*F2\n",
    "Idinv1=np.linalg.inv(Id1)\n",
    "Aux_2=np.matmul(Aux_1,Idinv1)\n",
    "Aux_1=Aux_2\n",
    "Aux_1=np.round(Aux_1)\n",
    "print('Fila',4,':',C_fact[1],'*Fila 4-',C_fact[3],'*Fila',2)\n",
    "print('Pivoteo- A: =',M_A)\n",
    "print('Matriz elemental:=',Id1)\n",
    "print('Matriz inversa elemental',indice,':=',Idinv1)\n",
    "print('L: =',Aux_1)\n",
    "U=np.copy(M_A)\n",
    "print('U: =',U)"
   ]
  },
  {
   "cell_type": "code",
   "execution_count": 6,
   "id": "397cfa53",
   "metadata": {},
   "outputs": [
    {
     "name": "stdout",
     "output_type": "stream",
     "text": [
      "Impresion de A*U-1 [[ 1.00000000e+00 -2.77555756e-17  5.55111512e-17  0.00000000e+00]\n",
      " [-1.00000000e+00  2.77555756e-17  1.00000000e+00  0.00000000e+00]\n",
      " [-3.00000000e+00  1.00000000e+00 -1.94289029e-16  0.00000000e+00]\n",
      " [-2.00000000e+00  7.00000000e-01 -3.33333333e-02  3.33333333e-02]]\n",
      "----------\n",
      "L:= [[ 1. -0.  0.  0.]\n",
      " [-3.  1. -0.  0.]\n",
      " [-1.  0.  1.  0.]\n",
      " [-2.  1. -0.  0.]]\n"
     ]
    }
   ],
   "source": [
    "## otro metodo calcular L\n",
    "Pinv=np.linalg.inv(Permuta)\n",
    "Uinv=np.linalg.inv(U)\n",
    "Y=np.matmul(A,Uinv)\n",
    "print('Impresion de A*U-1',Y)\n",
    "print('----------')\n",
    "L=np.matmul(Pinv,Y)\n",
    "L=np.round(L)\n",
    "print('L:=',L)"
   ]
  },
  {
   "cell_type": "code",
   "execution_count": 7,
   "id": "c6d0a2b5",
   "metadata": {},
   "outputs": [
    {
     "name": "stdout",
     "output_type": "stream",
     "text": [
      "[[-1.  3.  1.  0.]\n",
      " [ 1. -3.  2.  1.]\n",
      " [ 3.  1.  0.  1.]\n",
      " [ 2.  4.  1.  1.]]\n"
     ]
    }
   ],
   "source": [
    "#Comprobacion de las matrices P.L.U.\n",
    "M1=np.matmul(L,U)\n",
    "M2=np.matmul(Permuta,M1)\n",
    "print(M2)"
   ]
  },
  {
   "cell_type": "code",
   "execution_count": null,
   "id": "1ae4bfcb",
   "metadata": {},
   "outputs": [],
   "source": []
  },
  {
   "cell_type": "code",
   "execution_count": null,
   "id": "9a2ad2e4",
   "metadata": {},
   "outputs": [],
   "source": []
  }
 ],
 "metadata": {
  "kernelspec": {
   "display_name": "Python 3 (ipykernel)",
   "language": "python",
   "name": "python3"
  },
  "language_info": {
   "codemirror_mode": {
    "name": "ipython",
    "version": 3
   },
   "file_extension": ".py",
   "mimetype": "text/x-python",
   "name": "python",
   "nbconvert_exporter": "python",
   "pygments_lexer": "ipython3",
   "version": "3.9.7"
  }
 },
 "nbformat": 4,
 "nbformat_minor": 5
}
