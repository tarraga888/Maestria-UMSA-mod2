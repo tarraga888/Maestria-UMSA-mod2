{
 "cells": [
  {
   "cell_type": "markdown",
   "id": "7a0c32d3",
   "metadata": {},
   "source": [
    "## Matrices\n"
   ]
  },
  {
   "cell_type": "code",
   "execution_count": 13,
   "id": "38d4427f",
   "metadata": {},
   "outputs": [],
   "source": [
    "import numpy as np"
   ]
  },
  {
   "cell_type": "code",
   "execution_count": 14,
   "id": "65c9a537",
   "metadata": {},
   "outputs": [
    {
     "name": "stdout",
     "output_type": "stream",
     "text": [
      "A= [[ 2 -3  5]\n",
      " [ 6 -1  3]\n",
      " [-4  1 -2]]\n"
     ]
    }
   ],
   "source": [
    "M_A = np.array([[2, -3, 5], \n",
    "              [6, -1, 3], \n",
    "              [-4, 1, -2]])\n",
    "print('A=',M_A)"
   ]
  },
  {
   "cell_type": "code",
   "execution_count": 15,
   "id": "393762cd",
   "metadata": {},
   "outputs": [
    {
     "name": "stdout",
     "output_type": "stream",
     "text": [
      "cf1; 2\n",
      "A*Fila2= [[  2  -3   5]\n",
      " [  0 -16  24]\n",
      " [ -4   1  -2]]\n",
      "A*Fila3= [[  2  -3   5]\n",
      " [  0 -16  24]\n",
      " [  0  10 -16]]\n"
     ]
    }
   ],
   "source": [
    "cf11=M_A[0,0]\n",
    "print('cf1;',cf1)\n",
    "cf21=M_A[1,0]\n",
    "cf31=M_A[2,0]\n",
    "M_A[1,:]=cf21*M_A[0,:]-cf11*M_A[1,:] #Fila2 =cofactor-fila1\n",
    "print('A*Fila2=',M_A)\n",
    "M_A[2,:]=cf31*M_A[0,:]-cf11*M_A[2,:] #Fila3 =cofactor-fila1\n",
    "print('A*Fila3=',M_A)"
   ]
  },
  {
   "cell_type": "code",
   "execution_count": 16,
   "id": "f33fb2fa",
   "metadata": {},
   "outputs": [
    {
     "name": "stdout",
     "output_type": "stream",
     "text": [
      "A*FF= [[  2  -3   5]\n",
      " [  0 -16  24]\n",
      " [  0   0 -16]]\n"
     ]
    }
   ],
   "source": [
    "cf22=M_A[1,1]\n",
    "cf32=M_A[2,1]\n",
    "M_A[2,:]=cf32*M_A[1,:]-cf22*M_A[2,:] #Fila3 =cofactor-fila1\n",
    "print('A*FF=',M_A)"
   ]
  },
  {
   "cell_type": "code",
   "execution_count": null,
   "id": "3753922b",
   "metadata": {},
   "outputs": [],
   "source": []
  }
 ],
 "metadata": {
  "kernelspec": {
   "display_name": "Python 3 (ipykernel)",
   "language": "python",
   "name": "python3"
  },
  "language_info": {
   "codemirror_mode": {
    "name": "ipython",
    "version": 3
   },
   "file_extension": ".py",
   "mimetype": "text/x-python",
   "name": "python",
   "nbconvert_exporter": "python",
   "pygments_lexer": "ipython3",
   "version": "3.9.7"
  }
 },
 "nbformat": 4,
 "nbformat_minor": 5
}
