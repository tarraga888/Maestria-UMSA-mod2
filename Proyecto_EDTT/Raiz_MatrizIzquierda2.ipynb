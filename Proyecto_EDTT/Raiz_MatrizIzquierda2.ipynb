{
 "cells": [
  {
   "cell_type": "markdown",
   "id": "9de88dad",
   "metadata": {},
   "source": [
    "# Raiz cuadrada de una matriz en funcion a la descomposcion de Schur"
   ]
  },
  {
   "cell_type": "markdown",
   "id": "34f5e9de",
   "metadata": {},
   "source": [
    "## Descomposicion Schur"
   ]
  },
  {
   "cell_type": "code",
   "execution_count": 38,
   "id": "c6f87843",
   "metadata": {},
   "outputs": [
    {
     "name": "stdout",
     "output_type": "stream",
     "text": [
      "A= [[46900.49212127  6297.72787476]\n",
      " [ 3274.69293805   494.29008976]]\n",
      "filas: 2\n",
      "I:=  [[1. 0.]\n",
      " [0. 1.]]\n"
     ]
    }
   ],
   "source": [
    "import numpy as np\n",
    "M_A = np.array([[46900.49212127 ,  6297.72787476], \n",
    "              [ 3274.69293805  , 494.29008976]])\n",
    "A=np.copy(M_A)\n",
    "print('A=',M_A)\n",
    "Fil = M_A.shape[0]\n",
    "print('filas:',Fil)\n",
    "Col = M_A.shape[1]\n",
    "##Crear. matriz identidad\n",
    "Iden=np.identity(Fil)\n",
    "print('I:= ',Iden)\n",
    "#Crear matrices vacias \n",
    "M_A_T=np.zeros((Fil,Col)) # Matriz vacia \n",
    "Ix=np.zeros((Fil,Col)) # Matriz vacia \n",
    "U=np.zeros((Fil,Col)) # Matriz vacia \n",
    "Ut=np.zeros((Fil,Col)) # Matriz vacia \n",
    "Q=np.zeros((Fil,Col)) # Matriz vacia Q transpuesta\n",
    "Raiz_A=np.zeros((Fil,Col)) # Matriz vacia Q transpuesta\n",
    "T_e1=np.zeros((Fil,Col)) # Matriz vacia Q transpuesta"
   ]
  },
  {
   "cell_type": "code",
   "execution_count": 39,
   "id": "3f8c8f49",
   "metadata": {},
   "outputs": [],
   "source": [
    "A11=M_A[0,0]\n",
    "A12=M_A[0,1]\n",
    "A21=M_A[1,0]\n",
    "A22=M_A[1,1]"
   ]
  },
  {
   "cell_type": "code",
   "execution_count": 40,
   "id": "f2465b60",
   "metadata": {},
   "outputs": [
    {
     "name": "stdout",
     "output_type": "stream",
     "text": [
      "A transpuesta= [[46900.49212127  3274.69293805]\n",
      " [ 6297.72787476   494.29008976]]\n",
      "False\n",
      "Matriz no simetrica\n"
     ]
    }
   ],
   "source": [
    "M_A_T=np.transpose(M_A)\n",
    "print('A transpuesta=',M_A_T)\n",
    "Igual=np.array_equal(M_A,M_A_T)\n",
    "print(Igual)\n",
    "if Igual==True:\n",
    "       print('Matriz simetrica')\n",
    "else:\n",
    "       print('Matriz no simetrica')\n"
   ]
  },
  {
   "cell_type": "code",
   "execution_count": 41,
   "id": "abafe38e",
   "metadata": {},
   "outputs": [
    {
     "name": "stdout",
     "output_type": "stream",
     "text": [
      "delta1 46900.49212127\n",
      "delta2 2559323.4631735124\n",
      "Matriz semidedifinida positiva\n"
     ]
    }
   ],
   "source": [
    "#Verificacion Determinates\n",
    "delta1=A11\n",
    "delta2=A11*A22-A12*A21\n",
    "print('delta1',delta1)\n",
    "print('delta2',delta2)\n",
    "if delta1 >=0 and delta2 >=0:\n",
    "       print('Matriz semidedifinida positiva')\n",
    "else:\n",
    "       print('No cumple Matriz semidedifinida positiva')"
   ]
  },
  {
   "cell_type": "code",
   "execution_count": 42,
   "id": "5534855d",
   "metadata": {},
   "outputs": [
    {
     "name": "stdout",
     "output_type": "stream",
     "text": [
      "lambda1= 1/2 47394.78221103 +raiz( 2236028086.9782715\n",
      "lambda1= 47340.72043419813\n",
      "lambda1= 1/2 47394.78221103 -raiz( 2236028086.9782715\n",
      "lambda2= 54.06177683186979\n"
     ]
    }
   ],
   "source": [
    "b=-A11-A22\n",
    "c=A11*A22-A12*A21\n",
    "disc=b*b-4*c\n",
    "lambda1=0.5*(-b+pow(disc,1/2))\n",
    "lambda2=0.5*(-b-pow(disc,1/2))\n",
    "print('lambda1=','1/2',-b,'+raiz(',disc)\n",
    "print('lambda1=',lambda1)\n",
    "print('lambda1=','1/2',-b,'-raiz(',disc)\n",
    "print('lambda2=',lambda2)"
   ]
  },
  {
   "cell_type": "code",
   "execution_count": 43,
   "id": "c0cd801d",
   "metadata": {},
   "outputs": [
    {
     "name": "stdout",
     "output_type": "stream",
     "text": [
      "x1 [14.305594823902606, 1]\n",
      "x2 [-0.13443346330672348, 1]\n",
      "Eigenvalue:  [47340.7204342     54.06177683]\n",
      "Eigenvectors:  [[ 0.99756572 -0.13323492]\n",
      " [ 0.06973256  0.99108448]]\n"
     ]
    }
   ],
   "source": [
    "x1=[-A12/(A11-lambda1),1]\n",
    "x2=[-A12/(A11-lambda2),1]\n",
    "print('x1',x1)\n",
    "print('x2',x2)\n",
    "# verificacion\n",
    "x, v = np.linalg.eig (M_A)\n",
    "print (\"Eigenvalue: \", x)\n",
    "print (\"Eigenvectors: \", v)"
   ]
  },
  {
   "cell_type": "code",
   "execution_count": 44,
   "id": "13abb101",
   "metadata": {},
   "outputs": [
    {
     "name": "stdout",
     "output_type": "stream",
     "text": [
      "Norma x1:  14.340503591773514\n",
      "u1 :  [0.99756572 0.06973256]\n"
     ]
    }
   ],
   "source": [
    "#Calculando primera columna u1\n",
    "N_x1 = np.linalg.norm(x1)\n",
    "print('Norma x1: ',N_x1)\n",
    "u1=x1/N_x1\n",
    "print('u1 : ',u1)"
   ]
  },
  {
   "cell_type": "code",
   "execution_count": 45,
   "id": "028d4f68",
   "metadata": {},
   "outputs": [
    {
     "name": "stdout",
     "output_type": "stream",
     "text": [
      "Producto interno x2,u1:  -0.06437365681980188\n",
      "r2:  [-0.07021651  1.00448894]\n",
      "u2:  [-0.06973256  0.99756572]\n"
     ]
    }
   ],
   "source": [
    "#Calculando segunda columna u2\n",
    "pi_x2u1=np.inner(x2,u1) ##Producto interno u1,v1\n",
    "print('Producto interno x2,u1: ',pi_x2u1)\n",
    "r2=x2-pi_x2u1*u1\n",
    "N_r2 = np.linalg.norm(r2)\n",
    "u2=r2/N_r2\n",
    "print('r2: ',r2)\n",
    "print('u2: ',u2)"
   ]
  },
  {
   "cell_type": "code",
   "execution_count": 46,
   "id": "8a229ea0",
   "metadata": {},
   "outputs": [
    {
     "name": "stdout",
     "output_type": "stream",
     "text": [
      "U:  [[ 0.99756572 -0.06973256]\n",
      " [ 0.06973256  0.99756572]]\n",
      "--------\n"
     ]
    }
   ],
   "source": [
    "U[:,0]=u1\n",
    "U[:,1]=u2\n",
    "print('U: ',U)\n",
    "print('--------')"
   ]
  },
  {
   "cell_type": "code",
   "execution_count": 47,
   "id": "793a6351",
   "metadata": {},
   "outputs": [
    {
     "name": "stdout",
     "output_type": "stream",
     "text": [
      "U*:  [[ 0.99756572  0.06973256]\n",
      " [-0.06973256  0.99756572]]\n",
      "--------\n",
      "T:  [[4.73407204e+04 3.02303494e+03]\n",
      " [3.00000000e-11 5.40617768e+01]]\n"
     ]
    }
   ],
   "source": [
    "Ut=np.transpose(U) ## Esto se aplica porque U*=(Qconjujado)^T = Conjugado(U^T)\n",
    "print('U*: ',Ut)\n",
    "print('--------')\n",
    "M_AU=np.matmul(M_A,U)\n",
    "T=np.matmul(Ut,M_AU )\n",
    "T=np.round(T,11)\n",
    "print('T: ',T)"
   ]
  },
  {
   "cell_type": "code",
   "execution_count": 48,
   "id": "531f0a70",
   "metadata": {},
   "outputs": [
    {
     "name": "stdout",
     "output_type": "stream",
     "text": [
      "Raiz_A:  [[215.62206529  27.99837592]\n",
      " [ 14.55859728   9.30983406]]\n"
     ]
    }
   ],
   "source": [
    "T_e2=np.copy(T)\n",
    "T_e1[0,0]=pow(T_e2[0,0],1/2)\n",
    "T_e1[1,1]=pow(T_e2[1,1],1/2)\n",
    "T_e1[0,1]=T_e2[0,1]/(T_e1[0,0]+T_e1[1,1])\n",
    "Raiz_A=np.matmul(U,T_e1)\n",
    "Raiz_A=np.matmul(Raiz_A,Ut)\n",
    "print('Raiz_A: ',Raiz_A)"
   ]
  },
  {
   "cell_type": "code",
   "execution_count": 49,
   "id": "a95aaae6",
   "metadata": {},
   "outputs": [
    {
     "data": {
      "text/plain": [
       "array([[46900.49212127,  6297.72787476],\n",
       "       [ 3274.69293805,   494.29008976]])"
      ]
     },
     "execution_count": 49,
     "metadata": {},
     "output_type": "execute_result"
    }
   ],
   "source": [
    "#Comprobacion\n",
    "np.matmul(Raiz_A,Raiz_A)"
   ]
  },
  {
   "cell_type": "code",
   "execution_count": null,
   "id": "14a072b5",
   "metadata": {},
   "outputs": [],
   "source": []
  },
  {
   "cell_type": "code",
   "execution_count": null,
   "id": "951a8624",
   "metadata": {},
   "outputs": [],
   "source": []
  }
 ],
 "metadata": {
  "kernelspec": {
   "display_name": "Python 3 (ipykernel)",
   "language": "python",
   "name": "python3"
  },
  "language_info": {
   "codemirror_mode": {
    "name": "ipython",
    "version": 3
   },
   "file_extension": ".py",
   "mimetype": "text/x-python",
   "name": "python",
   "nbconvert_exporter": "python",
   "pygments_lexer": "ipython3",
   "version": "3.9.7"
  }
 },
 "nbformat": 4,
 "nbformat_minor": 5
}
