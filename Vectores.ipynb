{
 "cells": [
  {
   "cell_type": "code",
   "execution_count": 4,
   "id": "eebe171f",
   "metadata": {},
   "outputs": [],
   "source": [
    "import numpy as np\n",
    "import cmath"
   ]
  },
  {
   "cell_type": "code",
   "execution_count": 5,
   "id": "71711bb5",
   "metadata": {},
   "outputs": [
    {
     "name": "stdout",
     "output_type": "stream",
     "text": [
      "(21+3j)\n"
     ]
    }
   ],
   "source": [
    "a=np.array([1,2,3])\n",
    "b=np.array([3,2,1])\n",
    "c=a*b # Prodiucto a,b={a1*b1,a2*b2,......,an*bn}\n",
    "c\n",
    "x1=complex(4,-3)\n",
    "x2=complex(3,3)\n",
    "x3=x1*x2\n",
    "print(x3)"
   ]
  },
  {
   "cell_type": "code",
   "execution_count": 20,
   "id": "b8086559",
   "metadata": {},
   "outputs": [
    {
     "name": "stdout",
     "output_type": "stream",
     "text": [
      "akt [[1 1]\n",
      " [2 1]]\n",
      "B [[-1.  2.]\n",
      " [ 1. -1.]]\n",
      "s [[0. 4.]\n",
      " [2. 0.]]\n",
      "x1 [[1. 0.]\n",
      " [0. 1.]]\n",
      "[[0 4]\n",
      " [4 0]]\n"
     ]
    }
   ],
   "source": [
    "Ak=np.array([[1,2],[1,1]])\n",
    "Akt=np.transpose(Ak)\n",
    "print('akt',Akt)\n",
    "B=np.linalg.inv(Ak)\n",
    "print('B',B)\n",
    "suma=Ak+B\n",
    "print('s',suma)\n",
    "x1=np.matmul(B,Ak)\n",
    "print('x1',x1)\n",
    "c=np.array([[1,1],[2,1]])\n",
    "d=np.array([[0,4],[2,0]])\n",
    "print(c*d)"
   ]
  },
  {
   "cell_type": "code",
   "execution_count": 34,
   "id": "bd5f9b1e",
   "metadata": {},
   "outputs": [
    {
     "name": "stdout",
     "output_type": "stream",
     "text": [
      "a:= [1.+0.j 1.+1.j]\n",
      "b:= [2.-1.j 2.+0.j]\n",
      "b_conj:= [2.+1.j 2.-0.j]\n",
      "Prod_int:= (4+3j)\n"
     ]
    }
   ],
   "source": [
    "\n",
    "#Produxto interno d evectores conjugados\n",
    "a=np.array([1,1+1.j])\n",
    "print('a:=',a)\n",
    "b=np.array([2-1.j,2])\n",
    "print('b:=',b)\n",
    "b_conj=b.conjugate() # Conjugado de un complejo\n",
    "print('b_conj:=',b_conj)\n",
    "Prod_int=np.inner(a,b_conj) # Procducto interno de complejos\n",
    "print('Prod_int:=',Prod_int)\n"
   ]
  },
  {
   "cell_type": "code",
   "execution_count": null,
   "id": "96448e91",
   "metadata": {},
   "outputs": [],
   "source": []
  }
 ],
 "metadata": {
  "kernelspec": {
   "display_name": "Python 3 (ipykernel)",
   "language": "python",
   "name": "python3"
  },
  "language_info": {
   "codemirror_mode": {
    "name": "ipython",
    "version": 3
   },
   "file_extension": ".py",
   "mimetype": "text/x-python",
   "name": "python",
   "nbconvert_exporter": "python",
   "pygments_lexer": "ipython3",
   "version": "3.9.7"
  }
 },
 "nbformat": 4,
 "nbformat_minor": 5
}
